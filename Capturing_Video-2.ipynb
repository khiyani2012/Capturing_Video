{
 "cells": [
  {
   "cell_type": "code",
   "execution_count": null,
   "metadata": {},
   "outputs": [],
   "source": [
    "import cv2, time\n",
    "\n",
    "video = cv2.VideoCapture(0)\n",
    "\n",
    "time.sleep(3)\n",
    "\n",
    "video = cv2.VideoCapture(0)\n",
    "\n",
    "a = 1 \n",
    "\n",
    "while True:\n",
    "    a = a+1\n",
    "    check, frame = video.read()\n",
    "\n",
    "    print(check)\n",
    "    print(frame)\n",
    "\n",
    "    cv2.imshow(\"Capturing\", frame)\n",
    "    key = cv2.waitKey(1)\n",
    "    \n",
    "    if key == ord('q'):\n",
    "        break\n",
    "\n",
    "        \n",
    "print(a)\n",
    "video.release()\n",
    "\n",
    "cv2.destroyAllWindows\n",
    "\n"
   ]
  }
 ],
 "metadata": {
  "kernelspec": {
   "display_name": "Python 3",
   "language": "python",
   "name": "python3"
  },
  "language_info": {
   "codemirror_mode": {
    "name": "ipython",
    "version": 3
   },
   "file_extension": ".py",
   "mimetype": "text/x-python",
   "name": "python",
   "nbconvert_exporter": "python",
   "pygments_lexer": "ipython3",
   "version": "3.7.2"
  }
 },
 "nbformat": 4,
 "nbformat_minor": 2
}
